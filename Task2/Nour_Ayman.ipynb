{
  "cells": [
    {
      "cell_type": "code",
      "execution_count": 1,
      "metadata": {},
      "outputs": [
        {
          "name": "stderr",
          "output_type": "stream",
          "text": [
            "C:\\Users\\LENOVO\\AppData\\Local\\Temp\\ipykernel_21004\\86818361.py:1: DeprecationWarning: \n",
            "Pyarrow will become a required dependency of pandas in the next major release of pandas (pandas 3.0),\n",
            "(to allow more performant data types, such as the Arrow string type, and better interoperability with other libraries)\n",
            "but was not found to be installed on your system.\n",
            "If this would cause problems for you,\n",
            "please provide us feedback at https://github.com/pandas-dev/pandas/issues/54466\n",
            "        \n",
            "  import pandas as pd\n"
          ]
        }
      ],
      "source": [
        "import pandas as pd\n",
        "import numpy as np\n",
        "import seaborn as sns\n",
        "import matplotlib.pyplot as plt\n",
        "from sklearn.model_selection import train_test_split\n",
        "from sklearn.preprocessing import StandardScaler, LabelEncoder\n",
        "from sklearn.neighbors import KNeighborsClassifier\n",
        "from sklearn.linear_model import LogisticRegression\n",
        "from sklearn.metrics import accuracy_score, classification_report\n",
        "from sklearn.ensemble import RandomForestClassifier\n"
      ]
    },
    {
      "cell_type": "code",
      "execution_count": 2,
      "metadata": {},
      "outputs": [
        {
          "name": "stdout",
          "output_type": "stream",
          "text": [
            "Initial Data Info:\n",
            "<class 'pandas.core.frame.DataFrame'>\n",
            "RangeIndex: 36285 entries, 0 to 36284\n",
            "Data columns (total 17 columns):\n",
            " #   Column                    Non-Null Count  Dtype  \n",
            "---  ------                    --------------  -----  \n",
            " 0   Booking_ID                36285 non-null  object \n",
            " 1   number of adults          36285 non-null  int64  \n",
            " 2   number of children        36285 non-null  int64  \n",
            " 3   number of weekend nights  36285 non-null  int64  \n",
            " 4   number of week nights     36285 non-null  int64  \n",
            " 5   type of meal              36285 non-null  object \n",
            " 6   car parking space         36285 non-null  int64  \n",
            " 7   room type                 36285 non-null  object \n",
            " 8   lead time                 36285 non-null  int64  \n",
            " 9   market segment type       36285 non-null  object \n",
            " 10  repeated                  36285 non-null  int64  \n",
            " 11  P-C                       36285 non-null  int64  \n",
            " 12  P-not-C                   36285 non-null  int64  \n",
            " 13  average price             36285 non-null  float64\n",
            " 14  special requests          36285 non-null  int64  \n",
            " 15  date of reservation       36285 non-null  object \n",
            " 16  booking status            36285 non-null  object \n",
            "dtypes: float64(1), int64(10), object(6)\n",
            "memory usage: 4.7+ MB\n",
            "None\n",
            "\n",
            "Missing Values:\n",
            "Booking_ID                  0\n",
            "number of adults            0\n",
            "number of children          0\n",
            "number of weekend nights    0\n",
            "number of week nights       0\n",
            "type of meal                0\n",
            "car parking space           0\n",
            "room type                   0\n",
            "lead time                   0\n",
            "market segment type         0\n",
            "repeated                    0\n",
            "P-C                         0\n",
            "P-not-C                     0\n",
            "average price               0\n",
            "special requests            0\n",
            "date of reservation         0\n",
            "booking status              0\n",
            "dtype: int64\n"
          ]
        }
      ],
      "source": [
        "\n",
        "# Load dataset\n",
        "data = pd.read_csv(\"data.csv\")\n",
        "\n",
        "# Step 1: Data Preprocessing\n",
        "print(\"Initial Data Info:\")\n",
        "print(data.info())\n",
        "print(\"\\nMissing Values:\")\n",
        "print(data.isnull().sum())\n",
        "\n",
        "# Handle missing values (if any)\n",
        "data.dropna(inplace=True)\n",
        "\n",
        "# Remove whitespace from column names\n",
        "data.columns = data.columns.str.strip()\n"
      ]
    },
    {
      "cell_type": "code",
      "execution_count": 3,
      "metadata": {},
      "outputs": [],
      "source": [
        "# Step 2: Handling Outliers using IQR\n",
        "num_cols = data.select_dtypes(include=['int64', 'float64']).columns\n",
        "for col in num_cols:\n",
        "    Q1 = data[col].quantile(0.25)\n",
        "    Q3 = data[col].quantile(0.75)\n",
        "    IQR = Q3 - Q1\n",
        "    lower_bound = Q1 - 1.5 * IQR\n",
        "    upper_bound = Q3 + 1.5 * IQR\n",
        "    data = data[(data[col] >= lower_bound) & (data[col] <= upper_bound)]\n"
      ]
    },
    {
      "cell_type": "code",
      "execution_count": 8,
      "metadata": {},
      "outputs": [],
      "source": [
        "# Step 3: Feature Engineering\n",
        "\n",
        "data['adults_children'] = data['number of adults'] * data['number of children']\n",
        "data['weekend_weeknights'] = data['number of weekend nights'] * data['number of week nights']\n",
        "\n",
        "data['lead_time_squared'] = data['lead time'] ** 2\n",
        "data['average_price_squared'] = data['average price'] ** 2\n",
        "\n",
        "data['total_nights'] = data['number of weekend nights'] + data['number of week nights']\n",
        "data['total_people'] = data['number of adults'] + data['number of children']\n",
        "\n",
        "expected_features = ['number of adults', 'number of children', 'number of weekend nights', 'number of week nights', 'type of meal', 'car parking space', 'room type', 'lead time', 'market segment type', 'repeated', 'P-C', 'P-not-C', 'average price', 'special requests', 'adults_children', 'weekend_weeknights', 'lead_time_squared', 'average_price_squared', 'total_nights', 'total_people']\n",
        "existing_features = [col for col in expected_features if col in data.columns]\n",
        "data = data[existing_features + ['booking status']]\n"
      ]
    },
    {
      "cell_type": "code",
      "execution_count": 9,
      "metadata": {},
      "outputs": [],
      "source": [
        "# Step 4: Transforming Categorical Data\n",
        "le = LabelEncoder()\n",
        "data['booking status'] = le.fit_transform(data['booking status'])  # Binary Target\n",
        "categorical_cols = ['type of meal', 'room type', 'market segment type']\n",
        "categorical_cols = [col for col in categorical_cols if col in data.columns]\n",
        "for col in categorical_cols:\n",
        "    data[col] = le.fit_transform(data[col])"
      ]
    },
    {
      "cell_type": "code",
      "execution_count": 10,
      "metadata": {},
      "outputs": [],
      "source": [
        "\n",
        "# Step 5: Train-Test Split\n",
        "X = data.drop(columns=['booking status'])\n",
        "y = data['booking status']\n",
        "X_train, X_test, y_train, y_test = train_test_split(X, y, test_size=0.2, random_state=42)\n",
        "\n",
        "scaler = StandardScaler()\n",
        "X_train[num_cols] = scaler.fit_transform(X_train[num_cols])\n",
        "X_test[num_cols] = scaler.transform(X_test[num_cols])\n"
      ]
    },
    {
      "cell_type": "code",
      "execution_count": 7,
      "metadata": {},
      "outputs": [
        {
          "name": "stdout",
          "output_type": "stream",
          "text": [
            "KNN Accuracy: 0.8355356300141576\n",
            "              precision    recall  f1-score   support\n",
            "\n",
            "           0       0.79      0.73      0.76      1505\n",
            "           1       0.86      0.89      0.88      2733\n",
            "\n",
            "    accuracy                           0.84      4238\n",
            "   macro avg       0.82      0.81      0.82      4238\n",
            "weighted avg       0.83      0.84      0.83      4238\n",
            "\n",
            "Logistic Regression Accuracy: 0.7954223690420009\n",
            "              precision    recall  f1-score   support\n",
            "\n",
            "           0       0.76      0.62      0.68      1505\n",
            "           1       0.81      0.89      0.85      2733\n",
            "\n",
            "    accuracy                           0.80      4238\n",
            "   macro avg       0.79      0.75      0.77      4238\n",
            "weighted avg       0.79      0.80      0.79      4238\n",
            "\n"
          ]
        }
      ],
      "source": [
        "\n",
        "# Step 6: Modeling & Accuracy Calculation\n",
        "# K-Nearest Neighbors (KNN)\n",
        "knn = KNeighborsClassifier(n_neighbors=5)\n",
        "knn.fit(X_train, y_train)\n",
        "y_pred_knn = knn.predict(X_test)\n",
        "print(\"KNN Accuracy:\", accuracy_score(y_test, y_pred_knn))\n",
        "print(classification_report(y_test, y_pred_knn))\n",
        "\n",
        "# Logistic Regression\n",
        "log_reg = LogisticRegression()\n",
        "log_reg.fit(X_train, y_train)\n",
        "y_pred_log = log_reg.predict(X_test)\n",
        "print(\"Logistic Regression Accuracy:\", accuracy_score(y_test, y_pred_log))\n",
        "print(classification_report(y_test, y_pred_log))\n"
      ]
    },
    {
      "cell_type": "code",
      "execution_count": 10,
      "metadata": {},
      "outputs": [
        {
          "name": "stdout",
          "output_type": "stream",
          "text": [
            "Random Forest Accuracy: 0.8728173666823974\n",
            "              precision    recall  f1-score   support\n",
            "\n",
            "           0       0.85      0.78      0.81      1505\n",
            "           1       0.89      0.92      0.90      2733\n",
            "\n",
            "    accuracy                           0.87      4238\n",
            "   macro avg       0.87      0.85      0.86      4238\n",
            "weighted avg       0.87      0.87      0.87      4238\n",
            "\n"
          ]
        }
      ],
      "source": [
        "# Random Forest Classifier\n",
        "rf = RandomForestClassifier(n_estimators=100, random_state=42)\n",
        "rf.fit(X_train, y_train)\n",
        "y_pred_rf = rf.predict(X_test)\n",
        "print(\"Random Forest Accuracy:\", accuracy_score(y_test, y_pred_rf))\n",
        "print(classification_report(y_test, y_pred_rf))\n"
      ]
    }
  ],
  "metadata": {
    "kernelspec": {
      "display_name": "Python 3",
      "language": "python",
      "name": "python3"
    },
    "language_info": {
      "codemirror_mode": {
        "name": "ipython",
        "version": 3
      },
      "file_extension": ".py",
      "mimetype": "text/x-python",
      "name": "python",
      "nbconvert_exporter": "python",
      "pygments_lexer": "ipython3",
      "version": "3.11.5"
    }
  },
  "nbformat": 4,
  "nbformat_minor": 2
}
